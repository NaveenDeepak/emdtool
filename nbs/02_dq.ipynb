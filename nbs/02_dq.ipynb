{
 "cells": [
  {
   "cell_type": "markdown",
   "metadata": {},
   "source": [
    "# dq\n",
    "\n",
    "> calculate abc to dq0 transformations."
   ]
  },
  {
   "cell_type": "code",
   "execution_count": null,
   "metadata": {},
   "outputs": [],
   "source": [
    "#| default_exp dq"
   ]
  },
  {
   "cell_type": "code",
   "execution_count": null,
   "metadata": {},
   "outputs": [],
   "source": [
    "#| hide\n",
    "from nbdev.showdoc import *"
   ]
  },
  {
   "cell_type": "code",
   "execution_count": null,
   "metadata": {},
   "outputs": [],
   "source": [
    "#| export\n",
    "import numpy as np\n",
    "import matplotlib.pyplot as plt\n",
    "import sympy\n",
    "from IPython import display"
   ]
  },
  {
   "cell_type": "markdown",
   "metadata": {},
   "source": [
    "### Convention, equations for PMSM"
   ]
  },
  {
   "cell_type": "markdown",
   "metadata": {},
   "source": [
    "#### emf\n",
    "$e_a = E \\sin(\\theta)$      \n",
    "$e_b = E \\sin(\\theta - 2 \\pi/3)$        \n",
    "$e_c = E \\sin(\\theta + 2 \\pi/3)$\n",
    "\n",
    "#### self-inductance\n",
    "$Laa = L_0 + L_2 \\cos(2 \\theta)$        \n",
    "$Lbb = L_0 + L_2 \\cos(2 \\theta + 2 \\pi/3)$      \n",
    "$Laa = L_0 + L_2 \\cos(2 \\theta - 2 \\pi/3)$      \n",
    "\n",
    "#### mutual-inductance\n",
    "$Lab = M_0 + M_2 \\cos(2\\theta - 2\\pi/3)$        \n",
    "$Lbc = M_0 + M_2 \\cos(2\\theta)$     \n",
    "$Lca = M_0 + M_2 \\cos(2\\theta + 2\\pi/3)$     \n",
    "\n",
    "$L_{abc} = \\begin{bmatrix}\n",
    "Laa & Lab & Lca \\\\\n",
    "Lab & Lbb & Lbc \\\\\n",
    "Lca & Lbc & Lca\n",
    "\\end{bmatrix}$"
   ]
  },
  {
   "cell_type": "markdown",
   "metadata": {},
   "source": [
    "#### transformation matrix\n",
    "$K = \\dfrac{2}{3}\\begin{bmatrix}\n",
    "\\cos(\\theta) & \\cos(\\theta-2\\pi/3) & \\cos(\\theta+2\\pi/3)\\\\\n",
    "\\sin(\\theta) & \\sin(\\theta-2\\pi/3) & \\sin(\\theta+2\\pi/3)\\\\\n",
    "0.5 & 0.5 & 0.5\n",
    "\\end{bmatrix}$\n",
    "\n",
    "\n",
    "#### inverse transformation matrix\n",
    "$K^{-1} = \\begin{bmatrix}\n",
    "\\cos(\\theta) & \\sin(\\theta) & 1 \\\\\n",
    "\\cos(\\theta-2\\pi/3) & \\sin(\\theta-2\\pi/3) & 1 \\\\\n",
    "\\cos(\\theta+2\\pi/3) & \\sin(\\theta+2\\pi/3) & 1\n",
    "\\end{bmatrix}$"
   ]
  },
  {
   "cell_type": "markdown",
   "metadata": {},
   "source": [
    "#### Ldq0 axis inductance\n",
    "$L_d = (L_0 - M_0) - (\\dfrac{L_2}{2} + M_2)$        \n",
    "$L_q = (L_0 - M_0) + (\\dfrac{L_2}{2} + M_2)$"
   ]
  },
  {
   "cell_type": "code",
   "execution_count": null,
   "metadata": {},
   "outputs": [],
   "source": [
    "#| export\n",
    "def transform(theta, x):\n",
    "    k = (2/3)*np.matrix([[np.cos(theta), np.cos(theta - 2*np.pi/3), np.cos(theta + 2*np.pi/3)],\n",
    "    [np.sin(theta), np.sin(theta - 2*np.pi/3), np.sin(theta + 2*np.pi/3)],\n",
    "    [0.5, 0.5, 0.5]])\n",
    "    print('tranformation matrix (shape:{}): \\n{}\\n'.format(np.shape(k), k))\n",
    "\n",
    "    x = np.matrix(x)\n",
    "    print('abc matrix (shape:{}): \\n{}\\n'.format(np.shape(x), x))\n",
    "\n",
    "    try:\n",
    "        #np.shape(k)[1] == np.shape(x)[0]\n",
    "        dq = np.matmul(k, x)\n",
    "        print('tranformed matrix: \\n', dq)\n",
    "        return dq\n",
    "\n",
    "    except:\n",
    "        print('incompatible input shapes')"
   ]
  },
  {
   "cell_type": "markdown",
   "metadata": {},
   "source": [
    "#### forward transform example"
   ]
  },
  {
   "cell_type": "code",
   "execution_count": null,
   "metadata": {},
   "outputs": [
    {
     "name": "stdout",
     "output_type": "stream",
     "text": [
      "tranformation matrix (shape:(3, 3)): \n",
      "[[ 0.66666667 -0.33333333 -0.33333333]\n",
      " [ 0.         -0.57735027  0.57735027]\n",
      " [ 0.33333333  0.33333333  0.33333333]]\n",
      "\n",
      "abc matrix (shape:(3, 1)): \n",
      "[[ 1. ]\n",
      " [-0.5]\n",
      " [-0.5]]\n",
      "\n",
      "tranformed matrix: \n",
      " [[1.00000000e+00]\n",
      " [1.71752100e-17]\n",
      " [1.57281595e-16]]\n"
     ]
    }
   ],
   "source": [
    "angle = 0\n",
    "x = [[np.cos(angle)], [np.cos(angle-2*np.pi/3)], [np.cos(angle+2*np.pi/3)]]\n",
    "x_dq = transform(angle, x)"
   ]
  },
  {
   "cell_type": "markdown",
   "metadata": {},
   "source": []
  },
  {
   "cell_type": "code",
   "execution_count": null,
   "metadata": {},
   "outputs": [],
   "source": [
    "#| export\n",
    "def inv_transform(theta, x):\n",
    "    k1 = np.matrix(((np.cos(theta), np.sin(theta), 1),\n",
    "        (np.cos(theta - 2*np.pi/3), np.sin(theta - 2*np.pi/3), 1),\n",
    "        (np.cos(theta + 2*np.pi/3), np.sin(theta + 2*np.pi/3), 1)))\n",
    "    print('tranformation matrix (shape:{}): \\n{}\\n'.format(np.shape(k1), k1))\n",
    "\n",
    "    x = np.matrix(x)\n",
    "    print('dq matrix (shape:{}): \\n{}\\n'.format(np.shape(x), x))\n",
    "\n",
    "    try:\n",
    "        #np.shape(k)[1] == np.shape(x)[0]\n",
    "        abc = np.matmul(x, k1)\n",
    "        print('tranformed matrix: \\n', abc)\n",
    "        return abc\n",
    "\n",
    "    except:\n",
    "        print('incompatible input shapes')"
   ]
  },
  {
   "cell_type": "markdown",
   "metadata": {},
   "source": [
    "#### inverse tranform example"
   ]
  },
  {
   "cell_type": "code",
   "execution_count": null,
   "metadata": {},
   "outputs": [
    {
     "name": "stdout",
     "output_type": "stream",
     "text": [
      "tranformation matrix (shape:(3, 3)): \n",
      "[[ 1.         0.         1.       ]\n",
      " [-0.5       -0.8660254  1.       ]\n",
      " [-0.5        0.8660254  1.       ]]\n",
      "\n",
      "dq matrix (shape:(1, 3)): \n",
      "[[1 0 0]]\n",
      "\n",
      "tranformed matrix: \n",
      " [[1. 0. 1.]]\n"
     ]
    },
    {
     "data": {
      "text/plain": [
       "matrix([[1., 0., 1.]])"
      ]
     },
     "execution_count": null,
     "metadata": {},
     "output_type": "execute_result"
    }
   ],
   "source": [
    "angle = 0\n",
    "x = [1, 0, 0]\n",
    "inv_transform(angle, x)"
   ]
  },
  {
   "cell_type": "markdown",
   "metadata": {},
   "source": [
    "#### $L_{dq0}$ measurements"
   ]
  },
  {
   "cell_type": "code",
   "execution_count": null,
   "metadata": {},
   "outputs": [],
   "source": [
    "L0, L2, M0, M2, ta = sympy.symbols('L0, L2, M0, M2, ta')\n",
    "laa = L0 + L2*sympy.cos(2*ta)\n",
    "lbb = L0 + L2*sympy.cos(2*ta + 2*sympy.pi/3)\n",
    "lcc = L0 + L2*sympy.cos(2*ta - 2*sympy.pi/3)\n",
    "lab = M0 + M2*sympy.cos(2*ta -2*sympy.pi/3)\n",
    "lbc = M0 + M2*sympy.cos(2*ta)\n",
    "lca = M0 + M2*sympy.cos(2*ta +2*sympy.pi/3)"
   ]
  },
  {
   "cell_type": "markdown",
   "metadata": {},
   "source": [
    "$L_d, L_q$ can be measured in practice by locking the direct axis of rotor to one of the phases. Example:\n",
    "\n",
    "1. short the terminals B-C\n",
    "2. pass dc current through phase-A and shorted terminals of phase-B/C\n",
    "3. pass sufficient current to ensure that rotor moves and locks to phase A\n",
    "4. After the rotor locks itself to phase-A. Remove DC current and measure inductance $L_m$ across phase-A and phase-B"
   ]
  },
  {
   "cell_type": "code",
   "execution_count": null,
   "metadata": {},
   "outputs": [
    {
     "data": {
      "image/png": "[encoded data removed]",
      "text/plain": [
       "<IPython.core.display.Image object>"
      ]
     },
     "execution_count": null,
     "metadata": {},
     "output_type": "execute_result"
    }
   ],
   "source": [
    "#|echo: false\n",
    "display.Image(\"../data_for_docs/Ld_Lq.png\")"
   ]
  },
  {
   "cell_type": "markdown",
   "metadata": {},
   "source": [
    "The measured inductance is given as"
   ]
  },
  {
   "cell_type": "code",
   "execution_count": null,
   "metadata": {},
   "outputs": [
    {
     "data": {
      "text/latex": [
       "$\\displaystyle \\frac{3 L_{0}}{2} - \\frac{L_{2} \\sin{\\left(2 ta + \\frac{\\pi}{6} \\right)}}{2} + L_{2} \\cos{\\left(2 ta \\right)} - \\frac{3 M_{0}}{2} + \\frac{M_{2} \\sin{\\left(2 ta + \\frac{\\pi}{6} \\right)}}{2} + \\frac{M_{2} \\cos{\\left(2 ta \\right)}}{2} + \\frac{3 M_{2} \\cos{\\left(2 ta + \\frac{\\pi}{3} \\right)}}{2}$"
      ],
      "text/plain": [
       "3*L0/2 - L2*sin(2*ta + pi/6)/2 + L2*cos(2*ta) - 3*M0/2 + M2*sin(2*ta + pi/6)/2 + M2*cos(2*ta)/2 + 3*M2*cos(2*ta + pi/3)/2"
      ]
     },
     "execution_count": null,
     "metadata": {},
     "output_type": "execute_result"
    }
   ],
   "source": [
    "Lm = laa + lbb/2 -lab*3/2 - lca/2 + lbc/2\n",
    "Lm"
   ]
  },
  {
   "cell_type": "markdown",
   "metadata": {},
   "source": [
    "According the expressions for inductance. rotor position $ta$ is 90 degrees when the direct axis is aligned to Phase A. Substituting the same, expression of measured inductance is calculated as 3/2 times the Ld value."
   ]
  },
  {
   "cell_type": "code",
   "execution_count": null,
   "metadata": {},
   "outputs": [
    {
     "data": {
      "text/latex": [
       "$\\displaystyle 1.5 L_{0} - 0.75 L_{2} - 1.5 M_{0} - 1.5 M_{2}$"
      ],
      "text/plain": [
       "1.5*L0 - 0.75*L2 - 1.5*M0 - 1.5*M2"
      ]
     },
     "execution_count": null,
     "metadata": {},
     "output_type": "execute_result"
    }
   ],
   "source": [
    "Lm.evalf(subs={ta: np.pi/2})"
   ]
  },
  {
   "cell_type": "markdown",
   "metadata": {},
   "source": [
    "Above expression is $\\dfrac{3}{2}L_d$, providing experimental values for $L_d$. In this rotor position, inductance ($L_m$) measured between phase B and phase C is "
   ]
  },
  {
   "cell_type": "code",
   "execution_count": null,
   "metadata": {},
   "outputs": [
    {
     "data": {
      "text/latex": [
       "$\\displaystyle 2 L_{0} - L_{2} \\sin{\\left(2 ta + \\frac{\\pi}{6} \\right)} - L_{2} \\cos{\\left(2 ta + \\frac{\\pi}{3} \\right)} - 2 M_{0} - 2 M_{2} \\cos{\\left(2 ta \\right)}$"
      ],
      "text/plain": [
       "2*L0 - L2*sin(2*ta + pi/6) - L2*cos(2*ta + pi/3) - 2*M0 - 2*M2*cos(2*ta)"
      ]
     },
     "execution_count": null,
     "metadata": {},
     "output_type": "execute_result"
    }
   ],
   "source": [
    "lm = lbb + lcc - 2*lbc\n",
    "lm"
   ]
  },
  {
   "cell_type": "markdown",
   "metadata": {},
   "source": [
    "Substituting the same rotor position angle for $ta$ shows that the measured values is twice the Lq inductance"
   ]
  },
  {
   "cell_type": "code",
   "execution_count": null,
   "metadata": {},
   "outputs": [
    {
     "data": {
      "text/latex": [
       "$\\displaystyle 2.0 L_{0} + 1.0 L_{2} - 2.0 M_{0} + 2.0 M_{2}$"
      ],
      "text/plain": [
       "2.0*L0 + 1.0*L2 - 2.0*M0 + 2.0*M2"
      ]
     },
     "execution_count": null,
     "metadata": {},
     "output_type": "execute_result"
    }
   ],
   "source": [
    "lm.evalf(subs={ta: np.pi/2})"
   ]
  },
  {
   "cell_type": "markdown",
   "metadata": {},
   "source": [
    "Above expression is $2L_q$, providing experimental value for $L_q$"
   ]
  },
  {
   "cell_type": "code",
   "execution_count": null,
   "metadata": {},
   "outputs": [],
   "source": [
    "#| hide\n",
    "import nbdev; nbdev.nbdev_export()"
   ]
  }
 ],
 "metadata": {
  "kernelspec": {
   "display_name": "Python 3.8.2 64-bit",
   "language": "python",
   "name": "python3"
  }
 },
 "nbformat": 4,
 "nbformat_minor": 2
}
