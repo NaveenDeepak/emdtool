{
 "cells": [
  {
   "cell_type": "markdown",
   "metadata": {},
   "source": [
    "# cogging\n",
    "\n",
    "> this modules does calculation related to cogging torque. The math currently applies only to spm. "
   ]
  },
  {
   "cell_type": "code",
   "execution_count": null,
   "metadata": {},
   "outputs": [],
   "source": [
    "#| default_exp cogging"
   ]
  },
  {
   "cell_type": "code",
   "execution_count": null,
   "metadata": {},
   "outputs": [],
   "source": [
    "#| hide\n",
    "from nbdev.showdoc import *"
   ]
  },
  {
   "cell_type": "code",
   "execution_count": null,
   "metadata": {},
   "outputs": [],
   "source": [
    "#| export\n",
    "import numpy as np"
   ]
  },
  {
   "cell_type": "markdown",
   "metadata": {},
   "source": [
    "## Theory: pole embrace for minimum cogging torque is calculated as\n",
    "\n",
    "> Ns: number of stator slots        \n",
    "> Np: number of rotor poles     \n",
    "> Nc: LCM(Ns, Np)       \n",
    "\n",
    "optimum pole embrace: $j\\dfrac{N_p}{N_c}$ for $ j \\in Z$"
   ]
  },
  {
   "cell_type": "code",
   "execution_count": null,
   "metadata": {},
   "outputs": [],
   "source": [
    "def spm_embrace(s, r):\n",
    "    Nc = np.lcm(s, r)\n",
    "    embrace_list = []\n",
    "    embrace = 0\n",
    "    j = 1\n",
    "    while(embrace<1):\n",
    "        embrace = round(j*r/Nc,3)\n",
    "        embrace_list.append(embrace)\n",
    "        j += 1\n",
    "    \n",
    "    return embrace_list\n"
   ]
  },
  {
   "cell_type": "markdown",
   "metadata": {},
   "source": [
    "### example"
   ]
  },
  {
   "cell_type": "code",
   "execution_count": null,
   "metadata": {},
   "outputs": [
    {
     "data": {
      "text/plain": [
       "[0.167, 0.333, 0.5, 0.667, 0.833, 1.0]"
      ]
     },
     "execution_count": null,
     "metadata": {},
     "output_type": "execute_result"
    }
   ],
   "source": [
    "spm_embrace(12,10)"
   ]
  },
  {
   "cell_type": "code",
   "execution_count": null,
   "metadata": {},
   "outputs": [],
   "source": [
    "#| hide\n",
    "import nbdev; nbdev.nbdev_export()"
   ]
  }
 ],
 "metadata": {
  "kernelspec": {
   "display_name": "Python 3.8.2 64-bit",
   "language": "python",
   "name": "python3"
  }
 },
 "nbformat": 4,
 "nbformat_minor": 2
}
