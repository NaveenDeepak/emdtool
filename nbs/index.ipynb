{
 "cells": [
  {
   "cell_type": "code",
   "execution_count": null,
   "metadata": {},
   "outputs": [],
   "source": [
    "#| hide\n",
    "from emdtool.core import *"
   ]
  },
  {
   "cell_type": "markdown",
   "metadata": {},
   "source": [
    "# emdtool\n",
    "\n",
    "> tool to assist electric machine design and analysis"
   ]
  },
  {
   "cell_type": "markdown",
   "metadata": {},
   "source": [
    "This file will become your README and also the index of your documentation."
   ]
  },
  {
   "cell_type": "markdown",
   "metadata": {},
   "source": [
    "## Install"
   ]
  },
  {
   "cell_type": "markdown",
   "metadata": {},
   "source": [
    "```sh\n",
    "pip install emdtool\n",
    "```"
   ]
  },
  {
   "cell_type": "markdown",
   "metadata": {},
   "source": [
    "## How to use"
   ]
  },
  {
   "cell_type": "markdown",
   "metadata": {},
   "source": [
    "Fill me in please! Don't forget code examples:"
   ]
  },
  {
   "cell_type": "code",
   "execution_count": null,
   "metadata": {},
   "outputs": [],
   "source": [
    "#| hide\n",
    "import sys\n",
    "#import numpy as np\n",
    "#adding additional path to system for searching libraries\n",
    "sys.path.insert(0,'/home/vnd/MotorDesigner/emdtool')"
   ]
  },
  {
   "cell_type": "code",
   "execution_count": null,
   "metadata": {},
   "outputs": [],
   "source": [
    "# import the tool\n",
    "from emdtool import dq"
   ]
  },
  {
   "cell_type": "code",
   "execution_count": null,
   "metadata": {},
   "outputs": [
    {
     "name": "stdout",
     "output_type": "stream",
     "text": [
      "tranformation matrix (shape:(3, 3)): \n",
      "[[ 0.66666667 -0.33333333 -0.33333333]\n",
      " [ 0.         -0.57735027  0.57735027]\n",
      " [ 0.33333333  0.33333333  0.33333333]]\n",
      "\n",
      "abc matrix (shape:(3, 1)): \n",
      "[[ 1. ]\n",
      " [-0.5]\n",
      " [-0.5]]\n",
      "\n",
      "tranformed matrix: \n",
      " [[1.]\n",
      " [0.]\n",
      " [0.]]\n"
     ]
    }
   ],
   "source": [
    "# multiply a column vector of abc values to get corresponding dq0 values\n",
    "angle = 0\n",
    "abc = [[1], [-0.5], [-0.5]]\n",
    "dq0 = dq.transform(angle, abc)"
   ]
  }
 ],
 "metadata": {
  "kernelspec": {
   "display_name": "Python 3.8.2 64-bit",
   "language": "python",
   "name": "python3"
  }
 },
 "nbformat": 4,
 "nbformat_minor": 4
}
