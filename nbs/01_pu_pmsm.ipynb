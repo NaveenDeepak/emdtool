{
 "cells": [
  {
   "cell_type": "markdown",
   "metadata": {},
   "source": [
    "# pu_pmsm\n",
    "\n",
    "> per unit equations of pmsm and their corresponding torque-speed profiles"
   ]
  },
  {
   "cell_type": "code",
   "execution_count": null,
   "metadata": {},
   "outputs": [],
   "source": [
    "#| default_exp pu_pmsm"
   ]
  },
  {
   "cell_type": "code",
   "execution_count": null,
   "metadata": {},
   "outputs": [],
   "source": [
    "#| hide\n",
    "from nbdev.showdoc import *\n",
    "import numpy as np\n",
    "import matplotlib.pyplot as plt"
   ]
  },
  {
   "cell_type": "markdown",
   "metadata": {},
   "source": [
    "### pmsms per unit analysis"
   ]
  },
  {
   "cell_type": "markdown",
   "metadata": {},
   "source": [
    "Ideal PMSM model in p.u ignoring resistance\n",
    "\n",
    "$V = \\omega \\sqrt{ (\\lambda_m - L_d i_d )^2 + (L_q i_q )^2 }$  \n",
    "$T = \\dfrac{3 p}{2} [\\lambda_m i_q + (L_q - L_d)i_q i_d]$  \n",
    "$i_d = I \\sin(\\gamma)$  \n",
    "$i_q = I \\cos(\\gamma)$"
   ]
  },
  {
   "cell_type": "markdown",
   "metadata": {},
   "source": [
    "### Theory: spm pu analysis implementation\n",
    "spm class provides the ideal per unit capability of the machine defined by two parameters   \n",
    "1. flux linkage ($\\lambda_m$) = phi_m  \n",
    "2. inductance ($L_d = L_q = L$) = lpu    \n",
    "\n",
    "SPM achieves maximum torque per ampere with $\\gamma = 0$.   \n",
    "At base speed, $V$, $\\omega$ have 1 p.u value.    \n",
    "Considering these SPM specific constraints at base speed, $\\lambda_m$ and $L$ are bound by    \n",
    "$1 = \\sqrt{\\lambda_m^2 + L^2 }$     \n",
    "\n",
    "In this implementation, SPM machine is characterized by just $L$ i.e $lpu$ as input. $\\lambda_m$ is calculated using the above constraint.   "
   ]
  },
  {
   "cell_type": "code",
   "execution_count": null,
   "metadata": {},
   "outputs": [],
   "source": [
    "#| export\n",
    "class spm():\n",
    "    def __init__(self, phi_m):\n",
    "        self.lpu = np.sqrt(1-phi_m**2)\n",
    "        self.phi_m = phi_m\n",
    "        self.Vb = 0\n",
    "        self.Pb = 0\n",
    "        self.wb = 0\n",
    "        self.speed = []\n",
    "        self.torque = []\n",
    "        self.voltage = []\n",
    "        self.current = []\n",
    "        self.gamma = []\n",
    "        self.power = []\n",
    "        self.values = dict.fromkeys(['speed', 'torque', 'power'])\n",
    "            \n",
    "    def motor_puprofile(self, gamma_limit = 85):\n",
    "        \"\"\" this method calculates the per unit profile of the machine with current angle limit of 85 degrees\n",
    "        \"\"\"\n",
    "        gamma_deg = 0\n",
    "        gamma = gamma_deg*np.pi/180\n",
    "        # constant torque region\n",
    "        for o in np.arange(0,1.1,0.1):\n",
    "            v = o * np.sqrt( (self.phi_m - np.sin(gamma)*self.lpu)**2 + (self.lpu * np.cos(gamma))**2 )\n",
    "            t = self.phi_m * np.cos(gamma)\n",
    "            p = t*o\n",
    "            self.speed.append(o)\n",
    "            self.voltage.append(v)\n",
    "            self.gamma.append(gamma)\n",
    "            self.torque.append(t)\n",
    "            self.power.append(p)\n",
    "        # constant voltage region\n",
    "        for gamma_deg in range(1,85):\n",
    "            gamma = gamma_deg*np.pi/180\n",
    "            o = 1/np.sqrt( (self.phi_m - np.sin(gamma)*self.lpu)**2 + (self.lpu * np.cos(gamma))**2 )\n",
    "            t = self.phi_m * np.cos(gamma)\n",
    "            p = t*o\n",
    "            self.speed.append(o)\n",
    "            self.voltage.append(v)\n",
    "            self.gamma.append(gamma_deg)\n",
    "            self.torque.append(t)\n",
    "            self.power.append(p)\n",
    "    \n",
    "    def motor_profile(self, Vb, Pb, wb):\n",
    "        \"\"\"This method takes Vb, Pb, wb as the base values for line voltage, KVA rating of the machine, base speed respectively\n",
    "        \"\"\"\n",
    "        self.Vb = Vb\n",
    "        self.Pb = Pb\n",
    "        self.wb = wb\n",
    "        Tb = Pb/(2*np.pi*wb/60)\n",
    "        self.values['speed'] = np.array(self.speed)*wb\n",
    "        self.values['torque'] = np.array(self.torque)*Tb\n",
    "        self.values['power'] = np.array(self.power)*Pb\n",
    "        \n",
    "    \n",
    "    def plot_puprofile(self):\n",
    "        \"\"\" plots the motor performance profile in p.u\n",
    "        \"\"\"\n",
    "        fig, axs = plt.subplots(3)\n",
    "        fig.set_figheight(8)\n",
    "        axs[0].plot(self.speed, self.torque)\n",
    "        axs[0].set_title('torque vs speed')\n",
    "        axs[1].plot(self.speed, self.power)\n",
    "        axs[1].set_title('power vs speed')\n",
    "        axs[2].plot(self.speed, self.gamma)\n",
    "        axs[2].set_title('gamma vs speed')\n",
    "        \n",
    "        # Hide x labels and tick labels for top plots and y ticks for right plots.\n",
    "        for ax in axs.flat:\n",
    "            ax.label_outer()\n",
    "        \n",
    "        plt.tight_layout()\n",
    "        plt.show()\n",
    "    \n",
    "    def plot_profile(self):\n",
    "        \"\"\" plots the motor performance profile in actual values\n",
    "        \"\"\"       \n",
    "        fig, axs = plt.subplots(3)\n",
    "        fig.set_figheight(8)\n",
    "        axs[0].plot(self.values['speed'], self.values['torque'])\n",
    "        axs[0].set_title('torque vs speed')\n",
    "        axs[1].plot(self.values['speed'], self.values['power'])\n",
    "        axs[1].set_title('power vs speed')\n",
    "        axs[2].plot(self.values['speed'], self.gamma)\n",
    "        axs[2].set_title('gamma vs speed')\n",
    "        \n",
    "        # Hide x labels and tick labels for top plots and y ticks for right plots.\n",
    "        for ax in axs.flat:\n",
    "            ax.label_outer()\n",
    "        \n",
    "        plt.tight_layout()\n",
    "        plt.show()"
   ]
  },
  {
   "cell_type": "code",
   "execution_count": null,
   "metadata": {},
   "outputs": [
    {
     "data": {
      "text/markdown": [
       "---\n",
       "\n",
       "### spm.motor_puprofile\n",
       "\n",
       ">      spm.motor_puprofile (gamma_limit=85)\n",
       "\n",
       "this method calculates the per unit profile of the machine with current angle limit of 85 degrees"
      ],
      "text/plain": [
       "---\n",
       "\n",
       "### spm.motor_puprofile\n",
       "\n",
       ">      spm.motor_puprofile (gamma_limit=85)\n",
       "\n",
       "this method calculates the per unit profile of the machine with current angle limit of 85 degrees"
      ]
     },
     "execution_count": null,
     "metadata": {},
     "output_type": "execute_result"
    }
   ],
   "source": [
    "show_doc(spm.motor_puprofile)"
   ]
  },
  {
   "cell_type": "code",
   "execution_count": null,
   "metadata": {},
   "outputs": [
    {
     "data": {
      "text/markdown": [
       "---\n",
       "\n",
       "### spm.motor_profile\n",
       "\n",
       ">      spm.motor_profile (Vb, Pb, wb)\n",
       "\n",
       "This method takes Vb, Pb, wb as the base values for line voltage, KVA rating of the machine, base speed respectively"
      ],
      "text/plain": [
       "---\n",
       "\n",
       "### spm.motor_profile\n",
       "\n",
       ">      spm.motor_profile (Vb, Pb, wb)\n",
       "\n",
       "This method takes Vb, Pb, wb as the base values for line voltage, KVA rating of the machine, base speed respectively"
      ]
     },
     "execution_count": null,
     "metadata": {},
     "output_type": "execute_result"
    }
   ],
   "source": [
    "show_doc(spm.motor_profile)"
   ]
  },
  {
   "cell_type": "code",
   "execution_count": null,
   "metadata": {},
   "outputs": [
    {
     "data": {
      "text/markdown": [
       "---\n",
       "\n",
       "### spm.plot_puprofile\n",
       "\n",
       ">      spm.plot_puprofile ()\n",
       "\n",
       "plots the motor performance profile in p.u"
      ],
      "text/plain": [
       "---\n",
       "\n",
       "### spm.plot_puprofile\n",
       "\n",
       ">      spm.plot_puprofile ()\n",
       "\n",
       "plots the motor performance profile in p.u"
      ]
     },
     "execution_count": null,
     "metadata": {},
     "output_type": "execute_result"
    }
   ],
   "source": [
    "show_doc(spm.plot_puprofile)"
   ]
  },
  {
   "cell_type": "code",
   "execution_count": null,
   "metadata": {},
   "outputs": [
    {
     "data": {
      "text/markdown": [
       "---\n",
       "\n",
       "### spm.plot_profile\n",
       "\n",
       ">      spm.plot_profile ()\n",
       "\n",
       "plots the motor performance profile in actual values"
      ],
      "text/plain": [
       "---\n",
       "\n",
       "### spm.plot_profile\n",
       "\n",
       ">      spm.plot_profile ()\n",
       "\n",
       "plots the motor performance profile in actual values"
      ]
     },
     "execution_count": null,
     "metadata": {},
     "output_type": "execute_result"
    }
   ],
   "source": [
    "show_doc(spm.plot_profile)"
   ]
  },
  {
   "cell_type": "markdown",
   "metadata": {},
   "source": [
    "### spm class use: example\n",
    "\n",
    "Machine profile with:       \n",
    "magnet flux linkage = 0.8 p.u       \n",
    "line-line base voltage = 42 V       \n",
    "base power value (available KVA) = 7000 W   \n",
    "base speed = 2500 rpm"
   ]
  },
  {
   "cell_type": "code",
   "execution_count": null,
   "metadata": {},
   "outputs": [
    {
     "data": {
      "image/png": "[encoded data removed]",
      "text/plain": [
       "<Figure size 640x800 with 3 Axes>"
      ]
     },
     "metadata": {},
     "output_type": "display_data"
    }
   ],
   "source": [
    "#| hide_output\n",
    "M1 = spm(0.8)\n",
    "M1.motor_puprofile()\n",
    "M1.motor_profile(42, 7000, 2500)\n",
    "M1.plot_profile()"
   ]
  },
  {
   "cell_type": "code",
   "execution_count": null,
   "metadata": {},
   "outputs": [],
   "source": [
    "#| hide\n",
    "import nbdev; nbdev.nbdev_export()"
   ]
  }
 ],
 "metadata": {
  "kernelspec": {
   "display_name": "Python 3.8.2 64-bit",
   "language": "python",
   "name": "python3"
  }
 },
 "nbformat": 4,
 "nbformat_minor": 2
}
